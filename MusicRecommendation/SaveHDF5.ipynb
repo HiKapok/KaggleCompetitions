{
 "cells": [
  {
   "cell_type": "code",
   "execution_count": 1,
   "metadata": {},
   "outputs": [
    {
     "name": "stdout",
     "output_type": "stream",
     "text": [
      "env: CUDA_VISIBLE_DEVICES=1\n"
     ]
    },
    {
     "name": "stderr",
     "output_type": "stream",
     "text": [
      "/home/kapok/pyenv35/lib/python3.5/site-packages/sklearn/cross_validation.py:41: DeprecationWarning: This module was deprecated in version 0.18 in favor of the model_selection module into which all the refactored classes and functions are moved. Also note that the interface of the new CV iterators are different from that of this module. This module will be removed in 0.20.\n",
      "  \"This module will be removed in 0.20.\", DeprecationWarning)\n"
     ]
    }
   ],
   "source": [
    "# The line below sets the environment\n",
    "# variable CUDA_VISIBLE_DEVICES\n",
    "get_ipython().magic('env CUDA_VISIBLE_DEVICES = 1')\n",
    "import numpy as np\n",
    "import pandas as pd\n",
    "import matplotlib.pyplot as plt\n",
    "import multiprocessing as mp      # will come in handy due to the size of the data\n",
    "import os.path\n",
    "import random\n",
    "import io\n",
    "from datetime import datetime\n",
    "import gc # garbage collector\n",
    "import sklearn\n",
    "import xgboost as xgb\n",
    "from sklearn.preprocessing import LabelEncoder\n",
    "import math\n",
    "from collections import defaultdict\n",
    "import re\n",
    "import logging\n",
    "\n",
    "# This is a bit of magic to make matplotlib figures appear inline in the notebook\n",
    "# rather than in a new window.\n",
    "get_ipython().magic('matplotlib inline')\n",
    "plt.rcParams['figure.figsize'] = (10.0, 8.0) # set default size of plots\n",
    "plt.rcParams['image.interpolation'] = 'nearest'\n",
    "plt.rcParams['image.cmap'] = 'gray'\n",
    "\n",
    "# Some more magic so that the notebook will reload external python modules;\n",
    "# see http://stackoverflow.com/questions/1907993/autoreload-of-modules-in-ipython\n",
    "get_ipython().magic('load_ext autoreload')\n",
    "get_ipython().magic('autoreload 2')"
   ]
  },
  {
   "cell_type": "code",
   "execution_count": 2,
   "metadata": {
    "collapsed": true
   },
   "outputs": [],
   "source": [
    "DATASET_PATH = '/media/rs/0E06CD1706CD0127/Kapok/WSDM/'\n",
    "TRAIN_FILE = DATASET_PATH + 'all_train_withextra.csv'\n",
    "TEST_FILE = DATASET_PATH + 'all_test_withextra.csv'\n",
    "MEMBER_FILE = DATASET_PATH + 'members.csv'\n",
    "SONG_FILE = DATASET_PATH + 'fix_songs.csv'\n",
    "ALL_ARTIST = DATASET_PATH + 'all_artist_name.csv'\n",
    "ALL_COMPOSER = DATASET_PATH + 'all_composer.csv'\n",
    "ALL_LYRICIST = DATASET_PATH + 'all_lyricist.csv'\n",
    "HDF_FILENAME = DATASET_PATH + 'music_info.h5'"
   ]
  },
  {
   "cell_type": "code",
   "execution_count": 3,
   "metadata": {
    "collapsed": true
   },
   "outputs": [],
   "source": [
    "train_data = pd.read_csv(TRAIN_FILE)\n",
    "test_data = pd.read_csv(TEST_FILE)\n",
    "member_data = pd.read_csv(MEMBER_FILE)\n",
    "song_data = pd.read_csv(SONG_FILE)\n",
    "composer_df = pd.read_csv(ALL_COMPOSER)\n",
    "artist_name_df = pd.read_csv(ALL_ARTIST)\n",
    "lyricist_df = pd.read_csv(ALL_LYRICIST)"
   ]
  },
  {
   "cell_type": "code",
   "execution_count": 4,
   "metadata": {
    "collapsed": true
   },
   "outputs": [],
   "source": [
    "def convert_unicode_to_str(df):\n",
    "    df.columns = df.columns.astype(str)\n",
    "    types = df.apply(lambda x: pd.api.types.infer_dtype(df.values))\n",
    "    #print(types)#mixed-integer\n",
    "    for col in types[types == 'mixed-integer'].index:\n",
    "        df[col] = df[col].astype(str)\n",
    "    for col in types[types == 'mixed'].index:\n",
    "        df[col] = df[col].astype(str)\n",
    "    return df"
   ]
  },
  {
   "cell_type": "code",
   "execution_count": 5,
   "metadata": {
    "collapsed": true
   },
   "outputs": [],
   "source": [
    "store = pd.HDFStore(HDF_FILENAME)\n",
    "store['all_train_withextra'] = convert_unicode_to_str(train_data)\n",
    "store['all_test_withextra'] = convert_unicode_to_str(test_data)\n",
    "store['members'] = convert_unicode_to_str(member_data)\n",
    "store['fix_songs'] = convert_unicode_to_str(song_data)\n",
    "store['all_composer'] = convert_unicode_to_str(composer_df)\n",
    "store['all_artist_name'] = convert_unicode_to_str(artist_name_df)\n",
    "store['all_lyricist'] = convert_unicode_to_str(lyricist_df)\n",
    "store.close()"
   ]
  },
  {
   "cell_type": "code",
   "execution_count": 6,
   "metadata": {},
   "outputs": [
    {
     "name": "stdout",
     "output_type": "stream",
     "text": [
      "                          composer\n",
      "0                               董貞\n",
      "1                            TEDDY\n",
      "2                    FUTURE BOUNCE\n",
      "3                       Bekuh BOOM\n",
      "4                              湯小康\n",
      "5                      Traditional\n",
      "6                     Joe Hisaishi\n",
      "7                     Jonathan Lee\n",
      "8                               光良\n",
      "9                           JJ Lin\n",
      "10                Stephen Garrigan\n",
      "11                Mark Prendergast\n",
      "12                     Vincent May\n",
      "13                    Jacknife Lee\n",
      "14                    Jason Boland\n",
      "15                             陳偉強\n",
      "16                              白安\n",
      "17           Michael William Balfe\n",
      "18                             蔡旻佑\n",
      "19                    Chris Martin\n",
      "20                    Guy Berryman\n",
      "21                  Jonny Buckland\n",
      "22                Mikkel S Eriksen\n",
      "23                   Will Champion\n",
      "24              Tor Erik Hermansen\n",
      "25                    Maggie Roger\n",
      "26                     Nicholas Da\n",
      "27                   Skot Suyama陶山\n",
      "28              蔡詩蕓 Dominique Tsai\n",
      "29                         TAEYANG\n",
      "...                            ...\n",
      "2022206           James Harris III\n",
      "2022207          Rene Elizondo Jr.\n",
      "2022208              Ramin Djawadi\n",
      "2022209      Sebastian Kretzschmar\n",
      "2022210                Cotton Club\n",
      "2022211                     J. Yip\n",
      "2022212                   J. Reeve\n",
      "2022213                  J. Choung\n",
      "2022214                     J. Roh\n",
      "2022215               K. Nishimura\n",
      "2022216                  V. Coquia\n",
      "2022217              R. McCullough\n",
      "2022218                  R. Romulu\n",
      "2022219                  N. Walker\n",
      "2022220                      Yasuo\n",
      "2022221              Roger Bowling\n",
      "2022222            Harriet Wheeler\n",
      "2022223                        林穎茜\n",
      "2022224              Michelle Lewi\n",
      "2022225                 Kay Hanley\n",
      "2022226                Carl Perkin\n",
      "2022227   BROWN CHRISTOPHER STEVEN\n",
      "2022228    CALLAWAY THOMAS DECARLO\n",
      "2022229  LAWRENCE PHILIP MARTIN II\n",
      "2022230           Dwayne Chin-Quee\n",
      "2022231                  J. Harrow\n",
      "2022232        Aliaune Akon\" Thiam\n",
      "2022233               Jean Sibeliu\n",
      "2022234                 W.J. Spark\n",
      "2022235       L.C. van Scheppingen\n",
      "\n",
      "[2022236 rows x 1 columns]\n"
     ]
    }
   ],
   "source": [
    "store_test = pd.HDFStore(HDF_FILENAME)\n",
    "print(store_test['all_composer'])\n",
    "store_test.close()"
   ]
  },
  {
   "cell_type": "code",
   "execution_count": null,
   "metadata": {
    "collapsed": true
   },
   "outputs": [],
   "source": []
  }
 ],
 "metadata": {
  "kernelspec": {
   "display_name": "Python 3",
   "language": "python",
   "name": "python3"
  },
  "language_info": {
   "codemirror_mode": {
    "name": "ipython",
    "version": 3
   },
   "file_extension": ".py",
   "mimetype": "text/x-python",
   "name": "python",
   "nbconvert_exporter": "python",
   "pygments_lexer": "ipython3",
   "version": "3.5.2"
  }
 },
 "nbformat": 4,
 "nbformat_minor": 2
}

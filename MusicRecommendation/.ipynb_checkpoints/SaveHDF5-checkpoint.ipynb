{
 "cells": [
  {
   "cell_type": "code",
   "execution_count": 7,
   "metadata": {},
   "outputs": [
    {
     "name": "stdout",
     "output_type": "stream",
     "text": [
      "env: CUDA_VISIBLE_DEVICES=1\n",
      "The autoreload extension is already loaded. To reload it, use:\n",
      "  %reload_ext autoreload\n"
     ]
    }
   ],
   "source": [
    "# The line below sets the environment\n",
    "# variable CUDA_VISIBLE_DEVICES\n",
    "get_ipython().magic('env CUDA_VISIBLE_DEVICES = 1')\n",
    "import numpy as np\n",
    "import pandas as pd\n",
    "import matplotlib.pyplot as plt\n",
    "import multiprocessing as mp      # will come in handy due to the size of the data\n",
    "import os.path\n",
    "import random\n",
    "import io\n",
    "from datetime import datetime\n",
    "import gc # garbage collector\n",
    "import sklearn\n",
    "import xgboost as xgb\n",
    "from sklearn.preprocessing import LabelEncoder\n",
    "import math\n",
    "from collections import defaultdict\n",
    "import re\n",
    "import logging\n",
    "\n",
    "# This is a bit of magic to make matplotlib figures appear inline in the notebook\n",
    "# rather than in a new window.\n",
    "get_ipython().magic('matplotlib inline')\n",
    "plt.rcParams['figure.figsize'] = (10.0, 8.0) # set default size of plots\n",
    "plt.rcParams['image.interpolation'] = 'nearest'\n",
    "plt.rcParams['image.cmap'] = 'gray'\n",
    "\n",
    "# Some more magic so that the notebook will reload external python modules;\n",
    "# see http://stackoverflow.com/questions/1907993/autoreload-of-modules-in-ipython\n",
    "get_ipython().magic('load_ext autoreload')\n",
    "get_ipython().magic('autoreload 2')"
   ]
  },
  {
   "cell_type": "code",
   "execution_count": 8,
   "metadata": {
    "collapsed": true
   },
   "outputs": [],
   "source": [
    "DATASET_PATH = '/media/rs/0E06CD1706CD0127/Kapok/WSDM/'\n",
    "TRAIN_FILE = DATASET_PATH + 'all_train_withextra.csv'\n",
    "TEST_FILE = DATASET_PATH + 'all_test_withextra.csv'\n",
    "MEMBER_FILE = DATASET_PATH + 'members.csv'\n",
    "SONG_FILE = DATASET_PATH + 'fix_songs.csv'\n",
    "ALL_ARTIST = DATASET_PATH + 'all_artist_name.csv'\n",
    "ALL_COMPOSER = DATASET_PATH + 'all_composer.csv'\n",
    "ALL_LYRICIST = DATASET_PATH + 'all_lyricist.csv'\n",
    "HDF_FILENAME = DATASET_PATH + 'music_info.h5'"
   ]
  },
  {
   "cell_type": "code",
   "execution_count": 3,
   "metadata": {
    "collapsed": true
   },
   "outputs": [],
   "source": [
    "train_data = pd.read_csv(TRAIN_FILE)\n",
    "test_data = pd.read_csv(TEST_FILE)\n",
    "member_data = pd.read_csv(MEMBER_FILE)\n",
    "song_data = pd.read_csv(SONG_FILE)\n",
    "composer_df = pd.read_csv(ALL_COMPOSER)\n",
    "artist_name_df = pd.read_csv(ALL_ARTIST)\n",
    "lyricist_df = pd.read_csv(ALL_LYRICIST)"
   ]
  },
  {
   "cell_type": "code",
   "execution_count": null,
   "metadata": {
    "collapsed": true
   },
   "outputs": [],
   "source": [
    "def convert_unicode_to_str(df):\n",
    "    df.columns = df.columns.astype(str)\n",
    "    types = df.apply(lambda x: pd.api.types.infer_dtype(df.values))\n",
    "    #print(types)#mixed-integer\n",
    "    for col in types[types == 'mixed-integer'].index:\n",
    "        df[col] = df[col].astype(str)\n",
    "    for col in types[types == 'mixed'].index:\n",
    "        df[col] = df[col].astype(str)\n",
    "    return df"
   ]
  },
  {
   "cell_type": "code",
   "execution_count": null,
   "metadata": {
    "collapsed": true
   },
   "outputs": [],
   "source": [
    "store = pd.HDFStore(HDF_FILENAME)\n",
    "store['all_train_withextra'] = convert_unicode_to_str(train_data)\n",
    "store['all_test_withextra'] = convert_unicode_to_str(test_data)\n",
    "store['members'] = convert_unicode_to_str(member_data)\n",
    "store['fix_songs'] = convert_unicode_to_str(song_data)\n",
    "store['all_composer'] = convert_unicode_to_str(composer_df)\n",
    "store['all_artist_name'] = convert_unicode_to_str(artist_name_df)\n",
    "store['all_lyricist'] = convert_unicode_to_str(lyricist_df)\n",
    "store.close()"
   ]
  },
  {
   "cell_type": "code",
   "execution_count": 9,
   "metadata": {},
   "outputs": [
    {
     "name": "stdout",
     "output_type": "stream",
     "text": [
      "                                               artist_name\n",
      "0                                         張信哲 (Jeff Chang)\n",
      "1                                                BLACKPINK\n",
      "2                                             SUPER JUNIOR\n",
      "3                                                    S.H.E\n",
      "4                                                     貴族精選\n",
      "5                                                     貴族精選\n",
      "6                                          伍佰 & China Blue\n",
      "7                                        光良 (Michael Wong)\n",
      "8                                             林俊傑 (JJ Lin)\n",
      "9                                                 Kodaline\n",
      "10                                     D.L 羅時豐 (Daniel Lo)\n",
      "11                                                白安 (Ann)\n",
      "12                                              Littlesong\n",
      "13                                           蔡旻佑 (Evan Yo)\n",
      "14                                                Coldplay\n",
      "15                                            Maggie Roger\n",
      "16                               小男孩樂團 (Men Envy Children)\n",
      "17                                                 BIGBANG\n",
      "18                                             White Noise\n",
      "19                                             步步驚心主題曲原聲EP\n",
      "20                                              Katy Perry\n",
      "21                                          劉若英 (Rene Liu)\n",
      "22                                         傅又宣 (Maggie Fu)\n",
      "23                                         BIGBANG TAEYANG\n",
      "24                                 Danny Marquez & Ferry B\n",
      "25                          Kyary Pamyu Pamyu (きゃりーぱみゅぱみゅ)\n",
      "26                                        品冠 (Victor Wong)\n",
      "27                                              The Weeknd\n",
      "28                                      Marvin Gaye & Kygo\n",
      "29                                            五月天 (Mayday)\n",
      "...                                                    ...\n",
      "2527430                       umire sumomo (sumire sumomo)\n",
      "2527431                                     林一峰 (Chet Lam)\n",
      "2527432                                   Top 48 Kids Song\n",
      "2527433                                  Gonzalo Rubalcaba\n",
      "2527434                                        Music-Theme\n",
      "2527435                                      Janet Jackson\n",
      "2527436                                      Ramin Djawadi\n",
      "2527437                                 証聲音樂圖書館 ECHO MUSIC\n",
      "2527438                                               LM.C\n",
      "2527439                                         Miss May I\n",
      "2527440                                             廣告配樂精選\n",
      "2527441                                  Far East Movement\n",
      "2527442                                              Yasuo\n",
      "2527443                                        Kenny Roger\n",
      "2527444                                             蒲公英合唱團\n",
      "2527445                                        Webb Pierce\n",
      "2527446                                     Various Artist\n",
      "2527447                                        Carl Perkin\n",
      "2527448  R&B Boutique - In The Party 2nd Floor (Mixed b...\n",
      "2527449                                               Akon\n",
      "2527450                                     Varios Artista\n",
      "2527451                                        丁于 (Caesar)\n",
      "2527452                                   Thomas Zehetmair\n",
      "2527453                           Bedtime Songs Collective\n",
      "2527454                                  Spa Music Consort\n",
      "2527455                               Musica para Estudiar\n",
      "2527456                                   The 80's Allstar\n",
      "2527457                                      Laidback Luke\n",
      "2527458                                         Will Spark\n",
      "2527459                                  100 Piano Classic\n",
      "\n",
      "[2527460 rows x 1 columns]\n"
     ]
    }
   ],
   "source": [
    "store_test = pd.HDFStore(HDF_FILENAME)\n",
    "print(store_test['all_composer'])\n",
    "store_test.close()"
   ]
  },
  {
   "cell_type": "code",
   "execution_count": null,
   "metadata": {
    "collapsed": true
   },
   "outputs": [],
   "source": []
  }
 ],
 "metadata": {
  "kernelspec": {
   "display_name": "Python 3",
   "language": "python",
   "name": "python3"
  },
  "language_info": {
   "codemirror_mode": {
    "name": "ipython",
    "version": 3
   },
   "file_extension": ".py",
   "mimetype": "text/x-python",
   "name": "python",
   "nbconvert_exporter": "python",
   "pygments_lexer": "ipython3",
   "version": "3.5.2"
  }
 },
 "nbformat": 4,
 "nbformat_minor": 2
}

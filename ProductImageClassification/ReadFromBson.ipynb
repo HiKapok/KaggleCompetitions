{
 "cells": [
  {
   "cell_type": "code",
   "execution_count": 1,
   "metadata": {
    "collapsed": true
   },
   "outputs": [],
   "source": [
    "import numpy as np\n",
    "import pandas as pd\n",
    "import io\n",
    "import bson                       # this is installed with the pymongo package\n",
    "import matplotlib.pyplot as plt\n",
    "from scipy.misc import imread, imsave\n",
    "import multiprocessing as mp      # will come in handy due to the size of the data\n",
    "import os.path\n",
    "\n",
    "# This is a bit of magic to make matplotlib figures appear inline in the notebook\n",
    "# rather than in a new window.\n",
    "%matplotlib inline\n",
    "plt.rcParams['figure.figsize'] = (10.0, 8.0) # set default size of plots\n",
    "plt.rcParams['image.interpolation'] = 'nearest'\n",
    "plt.rcParams['image.cmap'] = 'gray'\n",
    "\n",
    "# Some more magic so that the notebook will reload external python modules;\n",
    "# see http://stackoverflow.com/questions/1907993/autoreload-of-modules-in-ipython\n",
    "%load_ext autoreload\n",
    "%autoreload 2"
   ]
  },
  {
   "cell_type": "code",
   "execution_count": null,
   "metadata": {
    "collapsed": true
   },
   "outputs": [],
   "source": [
    "DATASET_PATH = '/media/rs/0E06CD1706CD0127/Kapok/kaggle/'\n",
    "FILESTR_PATH = '/home/kapok/kaggle/'"
   ]
  },
  {
   "cell_type": "code",
   "execution_count": null,
   "metadata": {
    "collapsed": true
   },
   "outputs": [],
   "source": [
    "NCORE = 8\n",
    "IMAGE_COUNT = mp.Value('i', 0)\n",
    "\n",
    "prod_to_category = mp.Manager().dict() # note the difference\n",
    "\n",
    "def process(q, iolock, count, dataFold='Train'):\n",
    "    process = mp.current_process()\n",
    "    with open(FILESTR_PATH + str(process.pid) + '.txt', 'w') as outfile:\n",
    "        while True:\n",
    "            d = q.get()\n",
    "            if d is None:\n",
    "                break\n",
    "            product_id = d['_id']\n",
    "            category_id = d['category_id']\n",
    "            prod_to_category[product_id] = category_id\n",
    "            for e, pic in enumerate(d['imgs']):\n",
    "                picture = imread(io.BytesIO(pic['picture']))\n",
    "                # do something with the picture, etc\n",
    "                with count.get_lock():\n",
    "                    tempcount = count.value\n",
    "                    count.value += 1\n",
    "                outfile.write('id_p{:0>8d}'.format(product_id) + '_' + 'n{:0>9d}'.format(tempcount) + '.jpg\\n')\n",
    "                with iolock:\n",
    "                    imsave(os.path.join(DATASET_PATH, dataFold, 'id_p{:0>8d}'.format(product_id) + '_' + 'n{:0>9d}'.format(tempcount) + '.jpg'), picture)\n",
    "\n",
    "q = mp.Queue(maxsize=NCORE)\n",
    "iolock = mp.Lock()\n",
    "pool = mp.Pool(NCORE, initializer=process, initargs=(q, iolock, IMAGE_COUNT, 'Train'))\n",
    "\n",
    "# process the file\n",
    "if os.path.exists(os.path.join(DATASET_PATH, 'Train')) is not True: os.mkdir(os.path.join(DATASET_PATH, 'Train'))\n",
    "data = bson.decode_file_iter(open(DATASET_PATH + 'train.bson', 'rb'))\n",
    "for c, d in enumerate(data):\n",
    "    q.put(d)  # blocks until q below its max size\n",
    "\n",
    "# tell workers we're done\n",
    "for _ in range(NCORE):  \n",
    "    q.put(None)\n",
    "pool.close()\n",
    "pool.join()\n",
    "\n",
    "# convert back to normal dictionary\n",
    "prod_to_category = dict(prod_to_category)\n",
    "\n",
    "prod_to_category = pd.DataFrame.from_dict(prod_to_category, orient='index')\n",
    "prod_to_category.index.name = '_id'\n",
    "prod_to_category.rename(columns={0: 'category_id'}, inplace=True)"
   ]
  },
  {
   "cell_type": "code",
   "execution_count": null,
   "metadata": {
    "collapsed": true
   },
   "outputs": [],
   "source": [
    "#prod_to_category.head()\n",
    "#plt.imshow(picture);"
   ]
  },
  {
   "cell_type": "code",
   "execution_count": null,
   "metadata": {
    "collapsed": true
   },
   "outputs": [],
   "source": []
  }
 ],
 "metadata": {
  "kernelspec": {
   "display_name": "Python 3",
   "language": "python",
   "name": "python3"
  },
  "language_info": {
   "codemirror_mode": {
    "name": "ipython",
    "version": 3
   },
   "file_extension": ".py",
   "mimetype": "text/x-python",
   "name": "python",
   "nbconvert_exporter": "python",
   "pygments_lexer": "ipython3",
   "version": "3.5.2"
  }
 },
 "nbformat": 4,
 "nbformat_minor": 2
}

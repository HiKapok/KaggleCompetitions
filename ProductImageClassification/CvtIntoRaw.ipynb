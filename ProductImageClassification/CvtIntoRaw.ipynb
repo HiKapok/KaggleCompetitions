{
 "cells": [
  {
   "cell_type": "code",
   "execution_count": 1,
   "metadata": {},
   "outputs": [
    {
     "name": "stdout",
     "output_type": "stream",
     "text": [
      "env: CUDA_VISIBLE_DEVICES=\n"
     ]
    }
   ],
   "source": [
    "get_ipython().magic('env CUDA_VISIBLE_DEVICES =  ')\n",
    "\n",
    "import numpy as np # linear algebra\n",
    "import pandas as pd # data processing, CSV file I/O (e.g. pd.read_csv)\n",
    "import io\n",
    "import bson \n",
    "import tensorflow as tf\n",
    "import os.path\n",
    "import time\n",
    "import logging\n",
    "import matplotlib.pyplot as plt\n",
    "from scipy.misc import imread, imsave   # or, whatever image library you prefer\n",
    "from datetime import datetime\n",
    "\n",
    "# This is a bit of magic to make matplotlib figures appear inline in the notebook\n",
    "# rather than in a new window.\n",
    "get_ipython().magic('matplotlib inline')\n",
    "plt.rcParams['figure.figsize'] = (10.0, 8.0) # set default size of plots\n",
    "plt.rcParams['image.interpolation'] = 'nearest'\n",
    "plt.rcParams['image.cmap'] = 'gray'\n",
    "\n",
    "# Some more magic so that the notebook will reload external python modules;\n",
    "# see http://stackoverflow.com/questions/1907993/autoreload-of-modules-in-ipython\n",
    "get_ipython().magic('load_ext autoreload')\n",
    "get_ipython().magic('autoreload 2')"
   ]
  },
  {
   "cell_type": "code",
   "execution_count": 2,
   "metadata": {
    "collapsed": true
   },
   "outputs": [],
   "source": [
    "DATASET_PATH = '/media/rs/FC6CDC6F6CDC25E4/Linshi/'\n",
    "OUTPUT_PATTERN = DATASET_PATH+'{}/{}_{}.jpg'\n",
    "OUTPUT_DIR_PATTERN = DATASET_PATH+'{}/'\n",
    "train_bson_file = '/media/rs/0E06CD1706CD0127/Kapok/kaggle/train.bson'\n",
    "CATOGORY_HIST_FILE = '/media/rs/FC6CDC6F6CDC25E4/count_hist.csv'\n",
    "\n",
    "TRAIN_PATH = '/media/rs/0E06CD1706CD0127/Kapok/kaggle/Split/Train/'\n",
    "OUTPUT_DATASET_PATH = '/media/rs/FC6CDC6F6CDC25E4/resample_dataset2/'\n",
    "if os.path.exists(OUTPUT_DATASET_PATH) is not True: os.makedirs(OUTPUT_DATASET_PATH)\n",
    "BATCH_SIZE = 1024"
   ]
  },
  {
   "cell_type": "code",
   "execution_count": 3,
   "metadata": {
    "collapsed": true
   },
   "outputs": [],
   "source": [
    "# pd.DataFrame.from_dict(hist_count, orient='index').to_csv('/media/rs/FC6CDC6F6CDC25E4/'+'count_hist.csv')"
   ]
  },
  {
   "cell_type": "code",
   "execution_count": 4,
   "metadata": {
    "collapsed": true
   },
   "outputs": [],
   "source": [
    "def set_logging(logger_name, logger_file_name):\n",
    "    log = logging.getLogger(logger_name)\n",
    "    log.setLevel(logging.DEBUG)\n",
    "\n",
    "    # create formatter and add it to the handlers\n",
    "    print_formatter = logging.Formatter('%(message)s')\n",
    "    file_formatter = logging.Formatter('%(asctime)s - %(name)s_%(levelname)s: %(message)s')\n",
    "\n",
    "    # create file handler which logs even debug messages\n",
    "    fh = logging.FileHandler(logger_file_name, mode='w')\n",
    "    fh.setLevel(logging.DEBUG)\n",
    "    fh.setFormatter(file_formatter)\n",
    "    log.addHandler(fh)\n",
    "    # both output to console and file\n",
    "    consoleHandler = logging.StreamHandler()\n",
    "    consoleHandler.setFormatter(print_formatter)\n",
    "    log.addHandler(consoleHandler)\n",
    "    \n",
    "    return log"
   ]
  },
  {
   "cell_type": "code",
   "execution_count": 5,
   "metadata": {},
   "outputs": [
    {
     "name": "stderr",
     "output_type": "stream",
     "text": [
      "here is an info message.\n"
     ]
    }
   ],
   "source": [
    "log = set_logging('Cdiscount', '/media/rs/FC6CDC6F6CDC25E4/resample.log')\n",
    "log.info('here is an info message.')"
   ]
  },
  {
   "cell_type": "code",
   "execution_count": 6,
   "metadata": {
    "collapsed": true
   },
   "outputs": [],
   "source": [
    "# helper functions\n",
    "def _bytes_feature(value):\n",
    "    return tf.train.Feature(bytes_list=tf.train.BytesList(value=[value]))\n",
    "\n",
    "def _int64_feature(value):\n",
    "    return tf.train.Feature(int64_list=tf.train.Int64List(value=[value]))"
   ]
  },
  {
   "cell_type": "code",
   "execution_count": 7,
   "metadata": {
    "collapsed": true
   },
   "outputs": [],
   "source": [
    "sample_ratio = dict()\n",
    "\n",
    "low, high = 0.6, 0.4\n",
    "range_low, range_high = 50000, 100000\n",
    "range_length = range_high - range_low\n",
    "for num in range(range_low, range_high, 100):\n",
    "    sample_ratio[num//100] = (num - range_low)*(high - low)/range_length + low \n",
    "    \n",
    "low, high = 1., 0.6\n",
    "range_low, range_high = 20000, 50000\n",
    "range_length = range_high - range_low\n",
    "for num in range(range_low, range_high, 100):\n",
    "    sample_ratio[num//100] = (num - range_low)*(high - low)/range_length + low\n",
    "    \n",
    "low, high = 1.3, 1.\n",
    "range_low, range_high = 10000, 20000\n",
    "range_length = range_high - range_low\n",
    "for num in range(range_low, range_high, 100):\n",
    "    sample_ratio[num//100] = (num - range_low)*(high - low)/range_length + low\n",
    "    \n",
    "low, high = 1.8, 1.3\n",
    "range_low, range_high = 5000, 10000\n",
    "range_length = range_high - range_low\n",
    "for num in range(range_low, range_high, 100):\n",
    "    sample_ratio[num//100] = (num - range_low)*(high - low)/range_length + low\n",
    "    \n",
    "low, high = 4, 1.8\n",
    "range_low, range_high = 1000, 5000\n",
    "range_length = range_high - range_low\n",
    "for num in range(range_low, range_high, 100):\n",
    "    sample_ratio[num//100] = (num - range_low)*(high - low)/range_length + low\n",
    "    \n",
    "low, high = 6., 4.\n",
    "range_low, range_high = 500, 1000\n",
    "range_length = range_high - range_low\n",
    "for num in range(range_low, range_high, 100):\n",
    "    sample_ratio[num//100] = (num - range_low)*(high - low)/range_length + low\n",
    "    \n",
    "low, high = 10., 6\n",
    "range_low, range_high = 100, 500\n",
    "range_length = range_high - range_low\n",
    "for num in range(range_low, range_high, 100):\n",
    "    sample_ratio[num//100] = (num - range_low)*(high - low)/range_length + low\n",
    "    \n",
    "sample_ratio[0] = 10."
   ]
  },
  {
   "cell_type": "code",
   "execution_count": 8,
   "metadata": {
    "collapsed": true
   },
   "outputs": [],
   "source": [
    "catogory_df = pd.read_csv(CATOGORY_HIST_FILE)\n",
    "catogory_df.columns = ['catogory', 'count']"
   ]
  },
  {
   "cell_type": "code",
   "execution_count": 9,
   "metadata": {},
   "outputs": [
    {
     "data": {
      "text/plain": [
       "<matplotlib.axes._subplots.AxesSubplot at 0x7f657493f3c8>"
      ]
     },
     "execution_count": 9,
     "metadata": {},
     "output_type": "execute_result"
    },
    {
     "data": {
      "image/png": "[encoded data removed]",
      "text/plain": [
       "<matplotlib.figure.Figure at 0x7f65749853c8>"
      ]
     },
     "metadata": {},
     "output_type": "display_data"
    }
   ],
   "source": [
    "catogory_df = catogory_df.set_index('catogory')\n",
    "catogory_df = catogory_df.reset_index()\n",
    "catogory_df['sample_count'] = catogory_df['count'].apply(lambda x : x * sample_ratio[x//100] )\n",
    "catogory_df['sample_count'].plot()"
   ]
  },
  {
   "cell_type": "code",
   "execution_count": 10,
   "metadata": {},
   "outputs": [
    {
     "data": {
      "text/plain": [
       "22715188.013533331"
      ]
     },
     "execution_count": 10,
     "metadata": {},
     "output_type": "execute_result"
    }
   ],
   "source": [
    "#catogory_df['sample_count'].value_counts().plot(kind='bar')\n",
    "catogory_df['sample_count'].sum()"
   ]
  },
  {
   "cell_type": "code",
   "execution_count": 11,
   "metadata": {
    "collapsed": true
   },
   "outputs": [],
   "source": [
    "catogory_df['sample_rate'] = catogory_df['count'].apply(lambda x : sample_ratio[x//100] )"
   ]
  },
  {
   "cell_type": "code",
   "execution_count": 12,
   "metadata": {
    "collapsed": true
   },
   "outputs": [],
   "source": [
    "sample_rate_dict = dict(zip(catogory_df['catogory'].values , catogory_df['sample_rate'].values))"
   ]
  },
  {
   "cell_type": "code",
   "execution_count": 13,
   "metadata": {
    "collapsed": true
   },
   "outputs": [],
   "source": [
    "#catogory_df[catogory_df['count']<500][catogory_df['count']>100]['count'].plot()"
   ]
  },
  {
   "cell_type": "code",
   "execution_count": 14,
   "metadata": {
    "collapsed": true
   },
   "outputs": [],
   "source": [
    "def create_examples(files):\n",
    "    filename_queue = tf.train.string_input_producer(files, num_epochs=1, shuffle=True) \n",
    "    opts = tf.python_io.TFRecordOptions(tf.python_io.TFRecordCompressionType.ZLIB)\n",
    "    reader = tf.TFRecordReader(options = opts)\n",
    "    _, serialized_example = reader.read(filename_queue)\n",
    "    input_features = tf.parse_single_example(\n",
    "          serialized_example,\n",
    "          features={\n",
    "                'category_id': tf.FixedLenFeature([], tf.int64),\n",
    "                'product_id': tf.FixedLenFeature([], tf.int64),\n",
    "                'img_raw': tf.FixedLenFeature([], tf.string),\n",
    "          })\n",
    "    # only part of the dictionary are needed#\n",
    "    return { 'img_raw' : input_features['img_raw'], 'product_id' : input_features['product_id'], 'category_id' : input_features['category_id'] }\n",
    "def input_pipeline(filenames, batch_size, read_threads = 8):\n",
    "    filename_queue = create_examples(filenames)\n",
    "    example_list = [ filename_queue for _ in range(read_threads)]\n",
    "    #print(example_list)\n",
    "    min_after_dequeue = 2000\n",
    "    capacity = min_after_dequeue + 3 * batch_size\n",
    "    return tf.train.shuffle_batch_join(\n",
    "        example_list, batch_size = batch_size, capacity = capacity,\n",
    "        min_after_dequeue = min_after_dequeue, allow_smaller_final_batch = True)"
   ]
  },
  {
   "cell_type": "code",
   "execution_count": 15,
   "metadata": {
    "collapsed": true
   },
   "outputs": [],
   "source": [
    "def train_resample(filenames, outpath_train, batch_size, out_file_num = 800):\n",
    "    tfrecords_filename = [outpath_train + 'output_file{:d}.tfrecords'.format(index + 1) for index in range(out_file_num)]\n",
    "    \n",
    "    opts = tf.python_io.TFRecordOptions(tf.python_io.TFRecordCompressionType.ZLIB)\n",
    "\n",
    "    try:\n",
    "        writer_list = [tf.python_io.TFRecordWriter(file_name, options = opts) for file_name in tfrecords_filename]\n",
    "    except Exception as e:\n",
    "        print('writer_list create failed!')\n",
    "        if not writer_list:\n",
    "            for f in writer_list:\n",
    "                f.close()\n",
    "        return\n",
    "    \n",
    "    files = tf.train.match_filenames_once(filenames)\n",
    "\n",
    "    all_examples = input_pipeline(files, batch_size)\n",
    "\n",
    "    train_examples = dict()\n",
    "    \n",
    "    # split train and test examples from the mask\n",
    "    for key, value in all_examples.items():\n",
    "        train_examples[key] = value\n",
    "         \n",
    "    # Create the graph, etc.\n",
    "    # initialize local variables, like local counter epochs\n",
    "    init_op = tf.group(tf.global_variables_initializer(), tf.local_variables_initializer())\n",
    "    # Create a session for running operations in the Graph.\n",
    "    sess = tf.Session()\n",
    "    # Initialize the variables (like the epoch counter).\n",
    "    sess.run(init_op)\n",
    "\n",
    "    # Start input enqueue threads.\n",
    "    coord = tf.train.Coordinator()\n",
    "    threads = tf.train.start_queue_runners(sess=sess, coord=coord)\n",
    "    # batch iteration count, use for select different output file\n",
    "    count = 0\n",
    "    count_after_sample = 0\n",
    "    \n",
    "    start_time = time.time()\n",
    "    try:\n",
    "        while not coord.should_stop():\n",
    "            \n",
    "            cur_train_writer = writer_list[count % out_file_num]\n",
    "            \n",
    "            feeded_train_list = sess.run([tensors for tensors in train_examples.values()])\n",
    "            train_dictionary = dict(zip([key for key in train_examples.keys()], feeded_train_list))\n",
    "            #print(train_dictionary)\n",
    "            #print(len(train_dictionary['product_id']))\n",
    "            # write here  \n",
    "            reshaped_train = [ dict(zip([key for key in train_dictionary.keys()], [train_dictionary[key][index] for key in train_dictionary.keys()])) for index in range(len(train_dictionary['product_id'])) ]\n",
    "            for item in reshaped_train:\n",
    "                #print(reshaped_train[0])\n",
    "                #print(item['img_raw'])\n",
    "#                 print(type(item['product_id']))\n",
    "#                 print(type(item['category_id']))\n",
    "                \n",
    "                example = tf.train.Example(features=tf.train.Features(feature={\n",
    "                    'img_raw': _bytes_feature(item['img_raw']),\n",
    "                    'product_id': _int64_feature(item['product_id']),\n",
    "                    'category_id': _int64_feature(item['category_id'])\n",
    "                }))\n",
    "                \n",
    "                value = sample_rate_dict[item['category_id']]\n",
    "                while value > 0.:\n",
    "                    if np.random.random_sample() < value:\n",
    "                        #print('w')\n",
    "                        cur_train_writer.write(example.SerializeToString())\n",
    "                        count_after_sample += 1\n",
    "                    value = value - 1.   \n",
    "            count += 1  \n",
    "            if count % 100 == 0:\n",
    "                time_elapsed = time.time() - start_time\n",
    "                log.info('current record: {}'.format(count * batch_size))\n",
    "                log.info('Speed: {:5.3f}sec/100 batch records'.format(time_elapsed))\n",
    "                start_time = time.time()\n",
    "            #break     \n",
    "    except tf.errors.OutOfRangeError:\n",
    "        log.info('Done splitting -- epoch limit reached')\n",
    "        log.info('last count: {}, roughly examples num: {}'.format(count, count * batch_size))\n",
    "        log.info('after resample count: {}'.format(count_after_sample))\n",
    "        log.info('finished time: {}'.format(datetime.now().strftime('%Y-%m-%d %H:%M:%S')))\n",
    "    finally:\n",
    "        for f in writer_list:\n",
    "            f.close()\n",
    "        # When done, ask the threads to stop.\n",
    "        coord.request_stop()\n",
    "    \n",
    "    # Wait for threads to finish.\n",
    "    coord.join(threads) \n",
    "    sess.close()"
   ]
  },
  {
   "cell_type": "code",
   "execution_count": 16,
   "metadata": {
    "scrolled": true
   },
   "outputs": [
    {
     "name": "stderr",
     "output_type": "stream",
     "text": [
      "current record: 102400\n",
      "Speed: 43.174sec/100 batch records\n",
      "current record: 204800\n",
      "Speed: 43.045sec/100 batch records\n",
      "current record: 307200\n",
      "Speed: 43.232sec/100 batch records\n",
      "current record: 409600\n",
      "Speed: 42.696sec/100 batch records\n",
      "current record: 512000\n",
      "Speed: 42.447sec/100 batch records\n",
      "current record: 614400\n",
      "Speed: 42.937sec/100 batch records\n",
      "current record: 716800\n",
      "Speed: 43.368sec/100 batch records\n",
      "current record: 819200\n",
      "Speed: 43.514sec/100 batch records\n",
      "current record: 921600\n",
      "Speed: 43.227sec/100 batch records\n",
      "current record: 1024000\n",
      "Speed: 43.231sec/100 batch records\n",
      "current record: 1126400\n",
      "Speed: 42.652sec/100 batch records\n",
      "current record: 1228800\n",
      "Speed: 43.139sec/100 batch records\n",
      "current record: 1331200\n",
      "Speed: 42.597sec/100 batch records\n",
      "current record: 1433600\n",
      "Speed: 43.005sec/100 batch records\n",
      "current record: 1536000\n",
      "Speed: 43.512sec/100 batch records\n",
      "current record: 1638400\n",
      "Speed: 43.030sec/100 batch records\n",
      "current record: 1740800\n",
      "Speed: 43.195sec/100 batch records\n",
      "current record: 1843200\n",
      "Speed: 42.859sec/100 batch records\n",
      "current record: 1945600\n",
      "Speed: 43.305sec/100 batch records\n",
      "current record: 2048000\n",
      "Speed: 43.635sec/100 batch records\n",
      "current record: 2150400\n",
      "Speed: 45.269sec/100 batch records\n",
      "current record: 2252800\n",
      "Speed: 43.637sec/100 batch records\n",
      "current record: 2355200\n",
      "Speed: 42.876sec/100 batch records\n",
      "current record: 2457600\n",
      "Speed: 43.064sec/100 batch records\n",
      "current record: 2560000\n",
      "Speed: 43.523sec/100 batch records\n",
      "current record: 2662400\n",
      "Speed: 43.389sec/100 batch records\n",
      "current record: 2764800\n",
      "Speed: 43.750sec/100 batch records\n",
      "current record: 2867200\n",
      "Speed: 43.416sec/100 batch records\n",
      "current record: 2969600\n",
      "Speed: 43.620sec/100 batch records\n",
      "current record: 3072000\n",
      "Speed: 44.080sec/100 batch records\n",
      "current record: 3174400\n",
      "Speed: 43.531sec/100 batch records\n",
      "current record: 3276800\n",
      "Speed: 43.620sec/100 batch records\n",
      "current record: 3379200\n",
      "Speed: 43.679sec/100 batch records\n",
      "current record: 3481600\n",
      "Speed: 44.082sec/100 batch records\n",
      "current record: 3584000\n",
      "Speed: 43.252sec/100 batch records\n",
      "current record: 3686400\n",
      "Speed: 44.657sec/100 batch records\n",
      "current record: 3788800\n",
      "Speed: 43.972sec/100 batch records\n",
      "current record: 3891200\n",
      "Speed: 43.883sec/100 batch records\n",
      "current record: 3993600\n",
      "Speed: 43.836sec/100 batch records\n",
      "current record: 4096000\n",
      "Speed: 43.947sec/100 batch records\n",
      "current record: 4198400\n",
      "Speed: 44.582sec/100 batch records\n",
      "current record: 4300800\n",
      "Speed: 43.984sec/100 batch records\n",
      "current record: 4403200\n",
      "Speed: 43.796sec/100 batch records\n",
      "current record: 4505600\n",
      "Speed: 44.005sec/100 batch records\n",
      "current record: 4608000\n",
      "Speed: 45.042sec/100 batch records\n",
      "current record: 4710400\n",
      "Speed: 43.604sec/100 batch records\n",
      "current record: 4812800\n",
      "Speed: 43.761sec/100 batch records\n",
      "current record: 4915200\n",
      "Speed: 44.297sec/100 batch records\n",
      "current record: 5017600\n",
      "Speed: 44.394sec/100 batch records\n",
      "current record: 5120000\n",
      "Speed: 44.147sec/100 batch records\n",
      "current record: 5222400\n",
      "Speed: 44.656sec/100 batch records\n",
      "current record: 5324800\n",
      "Speed: 43.615sec/100 batch records\n",
      "current record: 5427200\n",
      "Speed: 43.797sec/100 batch records\n",
      "current record: 5529600\n",
      "Speed: 43.111sec/100 batch records\n",
      "current record: 5632000\n",
      "Speed: 43.838sec/100 batch records\n",
      "current record: 5734400\n",
      "Speed: 45.163sec/100 batch records\n",
      "current record: 5836800\n",
      "Speed: 44.741sec/100 batch records\n",
      "current record: 5939200\n",
      "Speed: 44.178sec/100 batch records\n",
      "current record: 6041600\n",
      "Speed: 43.860sec/100 batch records\n",
      "current record: 6144000\n",
      "Speed: 43.392sec/100 batch records\n",
      "current record: 6246400\n",
      "Speed: 44.313sec/100 batch records\n",
      "current record: 6348800\n",
      "Speed: 44.407sec/100 batch records\n",
      "current record: 6451200\n",
      "Speed: 44.171sec/100 batch records\n",
      "current record: 6553600\n",
      "Speed: 43.595sec/100 batch records\n",
      "current record: 6656000\n",
      "Speed: 44.860sec/100 batch records\n",
      "current record: 6758400\n",
      "Speed: 43.888sec/100 batch records\n",
      "current record: 6860800\n",
      "Speed: 44.561sec/100 batch records\n",
      "current record: 6963200\n",
      "Speed: 44.596sec/100 batch records\n",
      "current record: 7065600\n",
      "Speed: 43.956sec/100 batch records\n",
      "current record: 7168000\n",
      "Speed: 44.181sec/100 batch records\n",
      "current record: 7270400\n",
      "Speed: 43.536sec/100 batch records\n",
      "current record: 7372800\n",
      "Speed: 43.500sec/100 batch records\n",
      "current record: 7475200\n",
      "Speed: 43.880sec/100 batch records\n",
      "current record: 7577600\n",
      "Speed: 44.532sec/100 batch records\n",
      "current record: 7680000\n",
      "Speed: 44.444sec/100 batch records\n",
      "current record: 7782400\n",
      "Speed: 43.801sec/100 batch records\n",
      "current record: 7884800\n",
      "Speed: 43.434sec/100 batch records\n",
      "current record: 7987200\n",
      "Speed: 44.328sec/100 batch records\n",
      "current record: 8089600\n",
      "Speed: 43.927sec/100 batch records\n",
      "current record: 8192000\n",
      "Speed: 44.458sec/100 batch records\n",
      "current record: 8294400\n",
      "Speed: 44.885sec/100 batch records\n",
      "current record: 8396800\n",
      "Speed: 44.319sec/100 batch records\n",
      "current record: 8499200\n",
      "Speed: 44.650sec/100 batch records\n",
      "current record: 8601600\n",
      "Speed: 44.442sec/100 batch records\n",
      "current record: 8704000\n",
      "Speed: 44.796sec/100 batch records\n",
      "current record: 8806400\n",
      "Speed: 44.806sec/100 batch records\n",
      "current record: 8908800\n",
      "Speed: 44.856sec/100 batch records\n",
      "current record: 9011200\n",
      "Speed: 44.685sec/100 batch records\n",
      "current record: 9113600\n",
      "Speed: 44.273sec/100 batch records\n",
      "current record: 9216000\n",
      "Speed: 44.169sec/100 batch records\n",
      "current record: 9318400\n",
      "Speed: 45.161sec/100 batch records\n",
      "current record: 9420800\n",
      "Speed: 44.741sec/100 batch records\n",
      "current record: 9523200\n",
      "Speed: 44.670sec/100 batch records\n",
      "current record: 9625600\n",
      "Speed: 45.131sec/100 batch records\n",
      "current record: 9728000\n",
      "Speed: 45.279sec/100 batch records\n",
      "current record: 9830400\n",
      "Speed: 45.129sec/100 batch records\n",
      "current record: 9932800\n",
      "Speed: 45.332sec/100 batch records\n",
      "current record: 10035200\n",
      "Speed: 46.412sec/100 batch records\n",
      "Done splitting -- epoch limit reached\n",
      "last count: 9817, roughly examples num: 10052608\n",
      "after resample count: 18456575\n",
      "finished time: 2017-11-10 20:48:08\n"
     ]
    }
   ],
   "source": [
    "train_resample(TRAIN_PATH + 'output_file*', OUTPUT_DATASET_PATH, BATCH_SIZE, 600)"
   ]
  },
  {
   "cell_type": "code",
   "execution_count": null,
   "metadata": {
    "collapsed": true
   },
   "outputs": [],
   "source": [
    "print(type(list(sample_rate_dict.keys())[0]))"
   ]
  },
  {
   "cell_type": "code",
   "execution_count": null,
   "metadata": {
    "collapsed": true
   },
   "outputs": [],
   "source": [
    "def cvt_bson_to_raw(bson_file):\n",
    "    z = 0 \n",
    "    data = bson.decode_file_iter(open(bson_file, 'rb'))\n",
    "    start_time = time.time()\n",
    "    for c, d in enumerate(data):       \n",
    "        n_img = len(d['imgs'])\n",
    "        for index in range(n_img):\n",
    "            img_raw = d['imgs'][index]['picture']\n",
    "            img = imread(io.BytesIO(img_raw))\n",
    "            product_id = d['_id']\n",
    "            category_id = d['category_id'] \n",
    "            temp_file_name = OUTPUT_PATTERN.format(category_id, product_id, index)\n",
    "            if os.path.exists(OUTPUT_DIR_PATTERN.format(category_id)) is not True: os.mkdir(OUTPUT_DIR_PATTERN.format(category_id))\n",
    "            imsave(temp_file_name, img)\n",
    "        z = z + 1\n",
    "        if z % 10000 == 0:\n",
    "            time_elapsed = time.time() - start_time\n",
    "            log.info('current record: {}'.format(z))\n",
    "            log.info('Speed: {:5.3f}sec/10000 images'.format(time_elapsed))\n",
    "            start_time = time.time()\n",
    "    log.info('finished. ')"
   ]
  },
  {
   "cell_type": "code",
   "execution_count": null,
   "metadata": {
    "collapsed": true
   },
   "outputs": [],
   "source": [
    "#cvt_bson_to_raw(train_bson_file)"
   ]
  },
  {
   "cell_type": "code",
   "execution_count": null,
   "metadata": {
    "collapsed": true
   },
   "outputs": [],
   "source": [
    "hist_count = {int(entry.name): len([entry_inner.name for entry_inner in os.scandir(entry.path) if entry_inner.is_file()]) for entry in os.scandir(DATASET_PATH) if entry.is_dir()}\n",
    "print(hist_count)"
   ]
  },
  {
   "cell_type": "code",
   "execution_count": null,
   "metadata": {
    "collapsed": true
   },
   "outputs": [],
   "source": [
    "plt.bar(list(hist_count.keys()), hist_count.values(), color='g')\n",
    "plt.show()"
   ]
  },
  {
   "cell_type": "code",
   "execution_count": null,
   "metadata": {
    "collapsed": true
   },
   "outputs": [],
   "source": [
    "df = pd.DataFrame.from_dict(hist_count, orient='index')\n",
    "df.columns = ['count']\n",
    "df = df.sort_values(['count'], ascending=[False])"
   ]
  },
  {
   "cell_type": "code",
   "execution_count": null,
   "metadata": {
    "collapsed": true
   },
   "outputs": [],
   "source": [
    "len(df[(df['count'] < 1000)])"
   ]
  },
  {
   "cell_type": "code",
   "execution_count": null,
   "metadata": {
    "collapsed": true
   },
   "outputs": [],
   "source": [
    "df[(df['count'] < 500)]"
   ]
  },
  {
   "cell_type": "code",
   "execution_count": null,
   "metadata": {
    "collapsed": true
   },
   "outputs": [],
   "source": []
  }
 ],
 "metadata": {
  "kernelspec": {
   "display_name": "Python 3",
   "language": "python",
   "name": "python3"
  },
  "language_info": {
   "codemirror_mode": {
    "name": "ipython",
    "version": 3
   },
   "file_extension": ".py",
   "mimetype": "text/x-python",
   "name": "python",
   "nbconvert_exporter": "python",
   "pygments_lexer": "ipython3",
   "version": "3.5.2"
  }
 },
 "nbformat": 4,
 "nbformat_minor": 2
}

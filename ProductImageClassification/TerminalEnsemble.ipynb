{
 "cells": [
  {
   "cell_type": "code",
   "execution_count": 1,
   "metadata": {},
   "outputs": [
    {
     "name": "stdout",
     "output_type": "stream",
     "text": [
      "env: CUDA_VISIBLE_DEVICES=\n"
     ]
    },
    {
     "name": "stderr",
     "output_type": "stream",
     "text": [
      "/home/kapok/pyenv35/lib/python3.5/site-packages/sklearn/cross_validation.py:41: DeprecationWarning: This module was deprecated in version 0.18 in favor of the model_selection module into which all the refactored classes and functions are moved. Also note that the interface of the new CV iterators are different from that of this module. This module will be removed in 0.20.\n",
      "  \"This module will be removed in 0.20.\", DeprecationWarning)\n",
      "/home/kapok/pyenv35/lib/python3.5/site-packages/sklearn/grid_search.py:42: DeprecationWarning: This module was deprecated in version 0.18 in favor of the model_selection module into which all the refactored classes and functions are moved. This module will be removed in 0.20.\n",
      "  DeprecationWarning)\n"
     ]
    }
   ],
   "source": [
    "# The line below sets the environment\n",
    "# variable CUDA_VISIBLE_DEVICES\n",
    "get_ipython().magic('env CUDA_VISIBLE_DEVICES =  ')\n",
    "import numpy as np\n",
    "import pandas as pd\n",
    "import matplotlib.pyplot as plt\n",
    "import multiprocessing as mp      # will come in handy due to the size of the data\n",
    "import os.path\n",
    "import random\n",
    "import time\n",
    "import scipy\n",
    "from collections import OrderedDict\n",
    "import io\n",
    "from datetime import datetime\n",
    "import gc # garbage collector\n",
    "import sklearn\n",
    "import lightgbm as lgb\n",
    "from sklearn.preprocessing import LabelEncoder\n",
    "import math\n",
    "import sys\n",
    "from collections import defaultdict\n",
    "import re\n",
    "import logging\n",
    "from sklearn.model_selection import KFold\n",
    "from xgboost.sklearn import XGBClassifier\n",
    "from sklearn import cross_validation, metrics   #Additional scklearn functions\n",
    "from sklearn.grid_search import GridSearchCV   #Perforing grid search\n",
    "\n",
    "# This is a bit of magic to make matplotlib figures appear inline in the notebook\n",
    "# rather than in a new window.\n",
    "get_ipython().magic('matplotlib inline')\n",
    "plt.rcParams['figure.figsize'] = (10.0, 8.0) # set default size of plots\n",
    "plt.rcParams['image.interpolation'] = 'nearest'\n",
    "plt.rcParams['image.cmap'] = 'gray'\n",
    "\n",
    "# Some more magic so that the notebook will reload external python modules;\n",
    "# see http://stackoverflow.com/questions/1907993/autoreload-of-modules-in-ipython\n",
    "get_ipython().magic('load_ext autoreload')\n",
    "get_ipython().magic('autoreload 2')"
   ]
  },
  {
   "cell_type": "code",
   "execution_count": 2,
   "metadata": {
    "collapsed": true
   },
   "outputs": [],
   "source": [
    "RAW_INPUT_PATH = '/media/rs/0E06CD1706CD0127/Kapok/kaggle/pytorch/cdiscount/logs_resnet_test/raw_input.csv'\n",
    "MEDIAN_INPUT_PATH = '/media/rs/0E06CD1706CD0127/Kapok/kaggle/pytorch/cdiscount/logs_resnet_test/median_input.csv'\n",
    "MEAN_INPUT_PATH = '/media/rs/0E06CD1706CD0127/Kapok/kaggle/pytorch/cdiscount/logs_resnet_test/Resnet_pytorch_state_438453_2017-12-14_06_43_50.pth'\n"
   ]
  },
  {
   "cell_type": "code",
   "execution_count": 3,
   "metadata": {
    "collapsed": true
   },
   "outputs": [],
   "source": [
    "# raw_pred = pd.read_csv(MEDIAN_INPUT_PATH)#, names = [\"_id\", \"category_id\"])"
   ]
  },
  {
   "cell_type": "code",
   "execution_count": 4,
   "metadata": {},
   "outputs": [],
   "source": [
    "# raw_pred.iloc[[1767852],[0]] = 23597750\n",
    "# print(raw_pred['_id'][1767852])\n",
    "# raw_pred.to_csv('/media/rs/0E06CD1706CD0127/Kapok/kaggle/pytorch/cdiscount/logs_resnet_test/result_ok.csv',index=False)"
   ]
  },
  {
   "cell_type": "code",
   "execution_count": 5,
   "metadata": {},
   "outputs": [],
   "source": [
    "raw_pred = pd.read_csv(RAW_INPUT_PATH)#[-1000:]#, names = [\"_id\", \"category_id\"]\n",
    "median_pred = pd.read_csv(MEDIAN_INPUT_PATH)"
   ]
  },
  {
   "cell_type": "code",
   "execution_count": 6,
   "metadata": {},
   "outputs": [],
   "source": [
    "raw_pred.columns = ['_id', 'category_id']"
   ]
  },
  {
   "cell_type": "code",
   "execution_count": 7,
   "metadata": {},
   "outputs": [],
   "source": [
    "mode_pred = raw_pred.groupby(['_id'])['category_id'].agg(lambda x: scipy.stats.mode(x)[0])\n",
    "mode_count = raw_pred.groupby(['_id'])['category_id'].agg(lambda x: scipy.stats.mode(x)[1])"
   ]
  },
  {
   "cell_type": "code",
   "execution_count": 8,
   "metadata": {},
   "outputs": [],
   "source": [
    "mode_pred = mode_pred.reset_index(drop=False)\n",
    "mode_count = mode_count.reset_index(drop=False)\n",
    "mode_count.columns = ['_id', 'mode_count']\n",
    "mode_pred['mode_count'] = mode_count['mode_count']"
   ]
  },
  {
   "cell_type": "code",
   "execution_count": null,
   "metadata": {},
   "outputs": [],
   "source": [
    "bal = median_pred[1769675:]\n",
    "median_pred = median_pred[:1769675]\n",
    "mode_pred = mode_pred[:1768182]"
   ]
  },
  {
   "cell_type": "code",
   "execution_count": 17,
   "metadata": {
    "collapsed": true
   },
   "outputs": [],
   "source": [
    "median_pred__ = pd.merge(median_pred, mode_pred[['_id', 'category_id']], how='left', left_on=['_id'], right_on = ['_id'])\n",
    "median_pred__ = pd.merge(median_pred__, mode_count[['_id', 'mode_count']], how='left', left_on=['_id'], right_on = ['_id'])\n"
   ]
  },
  {
   "cell_type": "code",
   "execution_count": 21,
   "metadata": {},
   "outputs": [],
   "source": [
    "median_pred['mask'] = (median_pred__['category_id_x'] != median_pred__['category_id_y'])&(median_pred__['mode_count']>1)\n",
    "#median_pred['mask'] = (median_pred['category_id']!=mode_pred['category_id'])&(mode_pred['mode_count']>1)\n",
    "#median_pred['mask'] = (median_pred['_id']!=mode_pred['_id'])\n",
    "median_pred['another'] = median_pred__['category_id_y']\n",
    "median_pred['mask'] = median_pred['mask'].astype(int)"
   ]
  },
  {
   "cell_type": "code",
   "execution_count": 12,
   "metadata": {},
   "outputs": [
    {
     "data": {
      "text/plain": [
       "1"
      ]
     },
     "execution_count": 12,
     "metadata": {},
     "output_type": "execute_result"
    }
   ],
   "source": [
    "(raw_pred['_id']==14).sum()"
   ]
  },
  {
   "cell_type": "code",
   "execution_count": 20,
   "metadata": {},
   "outputs": [
    {
     "data": {
      "text/plain": [
       "1678604"
      ]
     },
     "execution_count": 20,
     "metadata": {},
     "output_type": "execute_result"
    }
   ],
   "source": []
  },
  {
   "cell_type": "code",
   "execution_count": 13,
   "metadata": {},
   "outputs": [
    {
     "data": {
      "text/plain": [
       "12225710    4\n",
       "17788793    4\n",
       "13566722    4\n",
       "8452861     4\n",
       "21224       4\n",
       "8934        4\n",
       "4293330     4\n",
       "21970803    4\n",
       "4287183     4\n",
       "80581       4\n",
       "195261      4\n",
       "9470473     4\n",
       "8565428     4\n",
       "17344384    4\n",
       "4767619     4\n",
       "21140144    4\n",
       "18038364    4\n",
       "8974217     4\n",
       "16915105    4\n",
       "4330144     4\n",
       "982859      4\n",
       "17802006    4\n",
       "299632      4\n",
       "17887751    4\n",
       "204535      4\n",
       "4421370     4\n",
       "17497021    4\n",
       "9213702     4\n",
       "17449898    4\n",
       "9165721     4\n",
       "           ..\n",
       "18687458    1\n",
       "17732178    1\n",
       "21922384    1\n",
       "20777396    1\n",
       "13609357    1\n",
       "918080      1\n",
       "5110335     1\n",
       "13492796    1\n",
       "17676855    1\n",
       "13478453    1\n",
       "18365387    1\n",
       "9273904     1\n",
       "1924589     1\n",
       "6141424     1\n",
       "18084350    1\n",
       "21828130    1\n",
       "21819934    1\n",
       "17617434    1\n",
       "17613336    1\n",
       "22533969    1\n",
       "22916595    1\n",
       "22910452    1\n",
       "10345981    1\n",
       "813581      1\n",
       "8533504     1\n",
       "12729857    1\n",
       "142851      1\n",
       "4993542     1\n",
       "13378052    1\n",
       "4098        1\n",
       "Name: _id, Length: 1769675, dtype: int64"
      ]
     },
     "execution_count": 13,
     "metadata": {},
     "output_type": "execute_result"
    }
   ],
   "source": [
    "raw_pred['_id'].value_counts()"
   ]
  },
  {
   "cell_type": "code",
   "execution_count": null,
   "metadata": {},
   "outputs": [],
   "source": [
    "print(len(median_pred['category_id']),len(mode_pred['category_id']))"
   ]
  },
  {
   "cell_type": "code",
   "execution_count": 22,
   "metadata": {},
   "outputs": [],
   "source": [
    "median_pred['real_pred'] = median_pred['category_id']*(1-median_pred['mask']) + median_pred['another']*median_pred['mask']"
   ]
  },
  {
   "cell_type": "code",
   "execution_count": 23,
   "metadata": {},
   "outputs": [],
   "source": [
    "to_save = median_pred[['_id', 'real_pred']]\n",
    "to_save.columns = ['_id', 'category_id']"
   ]
  },
  {
   "cell_type": "code",
   "execution_count": null,
   "metadata": {},
   "outputs": [],
   "source": [
    "to_save.to_csv('/media/rs/0E06CD1706CD0127/Kapok/kaggle/pytorch/cdiscount/logs_resnet_test/sub.csv', index=False, sep=',')"
   ]
  },
  {
   "cell_type": "code",
   "execution_count": null,
   "metadata": {},
   "outputs": [],
   "source": [
    "(median_pred['category_id']!=mode_pred['category_id'])"
   ]
  },
  {
   "cell_type": "code",
   "execution_count": null,
   "metadata": {},
   "outputs": [],
   "source": [
    "median_pred = median_pred[1:]\n",
    "median_pred = median_pred.reset_index(drop=True)"
   ]
  },
  {
   "cell_type": "code",
   "execution_count": null,
   "metadata": {
    "collapsed": true
   },
   "outputs": [],
   "source": []
  }
 ],
 "metadata": {
  "kernelspec": {
   "display_name": "Python 3",
   "language": "python",
   "name": "python3"
  },
  "language_info": {
   "codemirror_mode": {
    "name": "ipython",
    "version": 3
   },
   "file_extension": ".py",
   "mimetype": "text/x-python",
   "name": "python",
   "nbconvert_exporter": "python",
   "pygments_lexer": "ipython3",
   "version": "3.5.2"
  }
 },
 "nbformat": 4,
 "nbformat_minor": 2
}
